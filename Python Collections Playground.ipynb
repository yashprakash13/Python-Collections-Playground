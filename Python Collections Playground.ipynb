{
 "cells": [
  {
   "cell_type": "code",
   "execution_count": 1,
   "metadata": {},
   "outputs": [],
   "source": [
    "from collections import *"
   ]
  },
  {
   "cell_type": "code",
   "execution_count": 2,
   "metadata": {},
   "outputs": [
    {
     "data": {
      "text/plain": [
       "deque([3, 'Mine'])"
      ]
     },
     "execution_count": 2,
     "metadata": {},
     "output_type": "execute_result"
    }
   ],
   "source": [
    "# init an example\n",
    "queue = deque()\n",
    "queue.append(3)\n",
    "queue.append('Mine')\n",
    "queue"
   ]
  },
  {
   "cell_type": "code",
   "execution_count": 5,
   "metadata": {},
   "outputs": [],
   "source": [
    "queue.append('True')"
   ]
  },
  {
   "cell_type": "code",
   "execution_count": 6,
   "metadata": {},
   "outputs": [
    {
     "data": {
      "text/plain": [
       "'True'"
      ]
     },
     "execution_count": 6,
     "metadata": {},
     "output_type": "execute_result"
    }
   ],
   "source": [
    "queue[2]\n",
    "\n",
    "'''\n",
    "We can see that it works pretty much in the same manner as lists\n",
    "'''"
   ]
  },
  {
   "cell_type": "code",
   "execution_count": 8,
   "metadata": {},
   "outputs": [
    {
     "data": {
      "text/plain": [
       "3"
      ]
     },
     "execution_count": 8,
     "metadata": {},
     "output_type": "execute_result"
    }
   ],
   "source": [
    "'''Looking at some special functions which sets it apart'''\n",
    "FIFO_element = queue.popleft()\n",
    "FIFO_element"
   ]
  },
  {
   "cell_type": "code",
   "execution_count": 9,
   "metadata": {},
   "outputs": [
    {
     "data": {
      "text/plain": [
       "deque(['3', 'Mine', 'True'])"
      ]
     },
     "execution_count": 9,
     "metadata": {},
     "output_type": "execute_result"
    }
   ],
   "source": [
    "# can also do append towards the left\n",
    "queue.appendleft('3')\n",
    "queue"
   ]
  },
  {
   "cell_type": "code",
   "execution_count": null,
   "metadata": {},
   "outputs": [],
   "source": [
    "'''\n",
    "3 is back in our list! (it's a string this time though ;) )\n",
    "\n",
    "'''"
   ]
  },
  {
   "cell_type": "code",
   "execution_count": 28,
   "metadata": {},
   "outputs": [
    {
     "name": "stdout",
     "output_type": "stream",
     "text": [
      "This is a Dict:\n",
      "First 1\n",
      "Dos 2\n",
      "Dritte 3\n",
      "Quatre 4\n",
      "\n",
      "This is an Ordered Dict:\n",
      "First 1\n",
      "Quatre 4\n",
      "Dos 2\n",
      "Dritte 3\n"
     ]
    }
   ],
   "source": [
    "'''init an example to demonstrate the difference between the two! '''\n",
    "\n",
    "print(\"This is a Dict:\")  \n",
    "d = {}  \n",
    "d['First'] = 1\n",
    "d['Dos'] = 2\n",
    "d['Dritte'] = 3\n",
    "d['Quatre'] = 4\n",
    "    \n",
    "for key, value in d.items():  \n",
    "    print(key, value)  \n",
    "    \n",
    "print(\"\\nThis is an Ordered Dict:\")  \n",
    "od = OrderedDict()  \n",
    "od['First'] = 1\n",
    "od['Quatre'] = 4\n",
    "od['Dos'] = 2\n",
    "od['Dritte'] = 3\n",
    "\n",
    "    \n",
    "for key, value in od.items():  \n",
    "    print(key, value)"
   ]
  },
  {
   "cell_type": "code",
   "execution_count": 13,
   "metadata": {},
   "outputs": [
    {
     "data": {
      "text/plain": [
       "('Quatre', 4)"
      ]
     },
     "execution_count": 13,
     "metadata": {},
     "output_type": "execute_result"
    }
   ],
   "source": [
    "od.popitem()   #LIFO pop"
   ]
  },
  {
   "cell_type": "code",
   "execution_count": 14,
   "metadata": {},
   "outputs": [
    {
     "data": {
      "text/plain": [
       "('First', 1)"
      ]
     },
     "execution_count": 14,
     "metadata": {},
     "output_type": "execute_result"
    }
   ],
   "source": [
    "od.popitem(last = False) #FIFO pop"
   ]
  },
  {
   "cell_type": "code",
   "execution_count": 16,
   "metadata": {},
   "outputs": [
    {
     "data": {
      "text/plain": [
       "'Finish the app.py file'"
      ]
     },
     "execution_count": 16,
     "metadata": {},
     "output_type": "execute_result"
    }
   ],
   "source": [
    "''' init an example to show basic functionality  '''\n",
    "Tasks = namedtuple('Tasks',  ['name',  'language',  'when'])\n",
    "first_task = Tasks('Finish the app.py file', 'python', 'tomorrow')\n",
    "first_task.name   "
   ]
  },
  {
   "cell_type": "code",
   "execution_count": 17,
   "metadata": {},
   "outputs": [
    {
     "data": {
      "text/plain": [
       "'tomorrow'"
      ]
     },
     "execution_count": 17,
     "metadata": {},
     "output_type": "execute_result"
    }
   ],
   "source": [
    "# view the tuple values\n",
    "first_task[2]"
   ]
  },
  {
   "cell_type": "code",
   "execution_count": 18,
   "metadata": {},
   "outputs": [
    {
     "data": {
      "text/plain": [
       "Tasks(name='Finish presentation', language='Java', when='Sunday')"
      ]
     },
     "execution_count": 18,
     "metadata": {},
     "output_type": "execute_result"
    }
   ],
   "source": [
    "# to get a list as a namedtuple, we can do this:\n",
    "l = ['Finish presentation', 'Java', 'Sunday']\n",
    "\n",
    "second_task = Tasks._make(l)\n",
    "second_task"
   ]
  },
  {
   "cell_type": "code",
   "execution_count": 20,
   "metadata": {},
   "outputs": [
    {
     "data": {
      "text/plain": [
       "ChainMap({'Bands': ['Coldplay', 'Maroon5', 'One Direction']}, {'Some other bands': ['Metallica', 'AC/DC']})"
      ]
     },
     "execution_count": 20,
     "metadata": {},
     "output_type": "execute_result"
    }
   ],
   "source": [
    "''' Demonstrating a ChainMap! '''\n",
    "d1 = {'Bands': ['Coldplay', 'Maroon5', 'One Direction']}\n",
    "d2 = {'Some other bands': ['Metallica', 'AC/DC']}\n",
    "c = ChainMap(d1, d2)\n",
    "c"
   ]
  },
  {
   "cell_type": "code",
   "execution_count": 21,
   "metadata": {},
   "outputs": [
    {
     "data": {
      "text/plain": [
       "KeysView(ChainMap({'Bands': ['Coldplay', 'Maroon5', 'One Direction']}, {'Some other bands': ['Metallica', 'AC/DC']}))"
      ]
     },
     "execution_count": 21,
     "metadata": {},
     "output_type": "execute_result"
    }
   ],
   "source": [
    "c.keys()"
   ]
  },
  {
   "cell_type": "code",
   "execution_count": 22,
   "metadata": {},
   "outputs": [
    {
     "data": {
      "text/plain": [
       "ValuesView(ChainMap({'Bands': ['Coldplay', 'Maroon5', 'One Direction']}, {'Some other bands': ['Metallica', 'AC/DC']}))"
      ]
     },
     "execution_count": 22,
     "metadata": {},
     "output_type": "execute_result"
    }
   ],
   "source": [
    "c.values()"
   ]
  },
  {
   "cell_type": "code",
   "execution_count": 24,
   "metadata": {},
   "outputs": [
    {
     "data": {
      "text/plain": [
       "['Coldplay', 'Maroon5', 'One Direction']"
      ]
     },
     "execution_count": 24,
     "metadata": {},
     "output_type": "execute_result"
    }
   ],
   "source": [
    "c['Bands']"
   ]
  },
  {
   "cell_type": "code",
   "execution_count": 27,
   "metadata": {},
   "outputs": [
    {
     "data": {
      "text/plain": [
       "ChainMap({'yet another band': ['Nirvana']}, {'Bands': ['Coldplay', 'Maroon5', 'One Direction']}, {'Some other bands': ['Metallica', 'AC/DC']})"
      ]
     },
     "execution_count": 27,
     "metadata": {},
     "output_type": "execute_result"
    }
   ],
   "source": [
    "# add new dict to chainmap\n",
    "c = c.new_child({ 'yet another band' : ['Nirvana'] })\n",
    "c"
   ]
  },
  {
   "cell_type": "code",
   "execution_count": 29,
   "metadata": {},
   "outputs": [
    {
     "data": {
      "text/plain": [
       "defaultdict(int, {'One': 2, 'Two': 1})"
      ]
     },
     "execution_count": 29,
     "metadata": {},
     "output_type": "execute_result"
    }
   ],
   "source": [
    "# defining the defaultdict  \n",
    "d = defaultdict(int)  \n",
    "     \n",
    "# add values\n",
    "d['One'] = 2\n",
    "d['Two'] = 1\n",
    "d"
   ]
  },
  {
   "cell_type": "code",
   "execution_count": 46,
   "metadata": {},
   "outputs": [
    {
     "name": "stdout",
     "output_type": "stream",
     "text": [
      "defaultdict(<class 'int'>, {'One': 1, 'Two': 2, 'Three': 3})\n"
     ]
    }
   ],
   "source": [
    "'''A custom List with UserList '''\n",
    "\n",
    "class MyCustomList(UserList):  \n",
    "    # a custom function to return a dictionary with alternating elements\n",
    "    def convert_to_dict(self):  \n",
    "        d = defaultdict(int)\n",
    "        for i in range(0, len(self)-1, 2):\n",
    "            d[l[i]] = l[i+1] \n",
    "        return d\n",
    "            \n",
    "# define an instance\n",
    "l = MyCustomList(['One', 1, 'Two', 2, 'Three', 3])  \n",
    "print(l.convert_to_dict())"
   ]
  },
  {
   "cell_type": "code",
   "execution_count": null,
   "metadata": {},
   "outputs": [],
   "source": []
  }
 ],
 "metadata": {
  "kernelspec": {
   "display_name": "Python 3",
   "language": "python",
   "name": "python3"
  },
  "language_info": {
   "codemirror_mode": {
    "name": "ipython",
    "version": 3
   },
   "file_extension": ".py",
   "mimetype": "text/x-python",
   "name": "python",
   "nbconvert_exporter": "python",
   "pygments_lexer": "ipython3",
   "version": "3.6.8"
  }
 },
 "nbformat": 4,
 "nbformat_minor": 2
}
